{
 "cells": [
  {
   "cell_type": "markdown",
   "id": "2cf6b9db",
   "metadata": {},
   "source": [
    "# [intro ](https://www.tensorflow.org/guide/keras/serialization_and_saving)\n",
    "一个模型有以下组成部分：  \n",
    "1. architecture（layers and how they connected） \n",
    "2. weights values\n",
    "3. optimizer (defined by compiling the model)\n",
    "4. losses and metrics (defined by compiling the model or calling add_loss() or add_metric())"
   ]
  },
  {
   "cell_type": "markdown",
   "id": "df306f7c",
   "metadata": {},
   "source": [
    "# whole save & load\n",
    "\n",
    "一般情况下都会选择保存整个模型，除非是在训练过程中保存checkpoints。整体保存&加载的API如下：\n",
    "\n",
    "- model.save() or tf.keras.models.save_model()\n",
    "- tf.keras.models.load_model()"
   ]
  },
  {
   "cell_type": "markdown",
   "id": "9276c2e6",
   "metadata": {},
   "source": [
    "可以保存成**the TensorFlow SavedModel format**，或者**H5 format**,推荐前者。后者也可以通过argument切换。"
   ]
  },
  {
   "cell_type": "markdown",
   "id": "e67306cf",
   "metadata": {},
   "source": [
    "## SavedModel"
   ]
  },
  {
   "cell_type": "markdown",
   "id": "7e5b3f9f",
   "metadata": {},
   "source": [
    "保存后文件夹里又出现以下文件：\n",
    "- assets  \n",
    "- fingerprint.pb  \n",
    "- keras_metadata.pb  \n",
    "- saved_model.pb  (contains The model architecture, training configuration (including the optimizer, losses, and metrics))\n",
    "- variables (contains weights)"
   ]
  },
  {
   "cell_type": "markdown",
   "id": "fdceb1cd",
   "metadata": {},
   "source": [
    "对于自定义对象（eg.custom layers），会保存class name, call function, losses, weights (the config, 若有). 在没有config的情况下，call function用于创建一个像原始模型一样存在的模型，可以训练、评估和用于推理。但在编写自定义layer、model时最好也定义get_config和 from_config 。"
   ]
  },
  {
   "cell_type": "markdown",
   "id": "4b31b238",
   "metadata": {},
   "source": [
    "# save weights\n",
    "用途：\n",
    "1. You only need the model for inference: in this case you won't need to restart training, so you don't need the compilation information or optimizer state.\n",
    "2. You are doing transfer learning: in this case you will be training a new model reusing the state of a prior model, so you don't need the compilation information of the prior model."
   ]
  },
  {
   "cell_type": "markdown",
   "id": "1a358239",
   "metadata": {},
   "source": [
    "一般保存为ckpt \n",
    "```python\n",
    "sequential_model = keras.Sequential(\n",
    "    [\n",
    "        keras.Input(shape=(784,), name=\"digits\"),\n",
    "        keras.layers.Dense(64, activation=\"relu\", name=\"dense_1\"),\n",
    "        keras.layers.Dense(64, activation=\"relu\", name=\"dense_2\"),\n",
    "        keras.layers.Dense(10, name=\"predictions\"),\n",
    "    ]\n",
    ")\n",
    "sequential_model.save_weights(\"ckpt\")\n",
    "load_status = sequential_model.load_weights(\"ckpt\")\n",
    "\n",
    "# `assert_consumed` can be used as validation that all variable values have been\n",
    "# restored from the checkpoint. \n",
    "load_status.assert_consumed()\n",
    "```"
   ]
  },
  {
   "cell_type": "code",
   "execution_count": null,
   "id": "3b0bb877",
   "metadata": {},
   "outputs": [],
   "source": []
  }
 ],
 "metadata": {
  "kernelspec": {
   "display_name": "Python 3 (ipykernel)",
   "language": "python",
   "name": "python3"
  },
  "language_info": {
   "codemirror_mode": {
    "name": "ipython",
    "version": 3
   },
   "file_extension": ".py",
   "mimetype": "text/x-python",
   "name": "python",
   "nbconvert_exporter": "python",
   "pygments_lexer": "ipython3",
   "version": "3.9.7"
  },
  "toc": {
   "base_numbering": 1,
   "nav_menu": {},
   "number_sections": true,
   "sideBar": true,
   "skip_h1_title": false,
   "title_cell": "Table of Contents",
   "title_sidebar": "Contents",
   "toc_cell": false,
   "toc_position": {},
   "toc_section_display": true,
   "toc_window_display": false
  }
 },
 "nbformat": 4,
 "nbformat_minor": 5
}
