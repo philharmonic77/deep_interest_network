{
 "cells": [
  {
   "cell_type": "code",
   "execution_count": 1,
   "id": "e8fbb005",
   "metadata": {},
   "outputs": [
    {
     "data": {
      "text/html": [
       "<style>\n",
       "table {float:left}\n",
       "</style>\n"
      ],
      "text/plain": [
       "<IPython.core.display.HTML object>"
      ]
     },
     "metadata": {},
     "output_type": "display_data"
    }
   ],
   "source": [
    "%%html\n",
    "<style>\n",
    "table {float:left}\n",
    "</style>"
   ]
  },
  {
   "cell_type": "markdown",
   "id": "0c62913b",
   "metadata": {},
   "source": [
    "# [tensorboard](https://www.tensorflow.org/tensorboard/get_started)"
   ]
  },
  {
   "cell_type": "markdown",
   "id": "a4b4deaf",
   "metadata": {},
   "source": [
    "基本类型：  \n",
    "  \n",
    "| type | usage |\n",
    "| :--- | :--- |\n",
    "| Scalars | loss、metrics，also track training speed, learning rate, and other scalar values. |\n",
    "| Graphs | visualize your model |\n",
    "| Histograms | visualize weights and biases |\n",
    "| Distributions | visualize weights and biases |  "
   ]
  },
  {
   "cell_type": "markdown",
   "id": "be02e383",
   "metadata": {},
   "source": [
    "Histograms、Distributions主要区别在于图标样式不同。主要用于观察分布以及哪些区域的参数长时间没更新。"
   ]
  },
  {
   "cell_type": "markdown",
   "id": "db011c64",
   "metadata": {},
   "source": [
    "## keras Model.fit里使用"
   ]
  },
  {
   "cell_type": "markdown",
   "id": "f752ca3c",
   "metadata": {},
   "source": [
    "``` python \n",
    "model = create_model()\n",
    "model.compile(optimizer='adam',\n",
    "              loss='sparse_categorical_crossentropy',\n",
    "              metrics=['accuracy'])\n",
    "\n",
    "log_dir = \"logs/fit/\" + datetime.datetime.now().strftime(\"%Y%m%d-%H%M%S\")\n",
    "tensorboard_callback = tf.keras.callbacks.TensorBoard(log_dir=log_dir, histogram_freq=1)\n",
    "\n",
    "model.fit(x=x_train, \n",
    "          y=y_train, \n",
    "          epochs=5, \n",
    "          validation_data=(x_test, y_test), \n",
    "          callbacks=[tensorboard_callback])\n",
    "%tensorboard --logdir logs/fit # 若执行失败，可以cli里执行\n",
    "```"
   ]
  },
  {
   "cell_type": "markdown",
   "id": "51a3be7e",
   "metadata": {},
   "source": [
    "## 用在自定义的training loop\n",
    "\n",
    "tldr：\n",
    "``` python\n",
    "tf.summary.create_file_writer(train_log_dir)\n",
    "with train_summary_writer.as_default():\n",
    "    tf.summary.scalar('loss', train_loss.result(), step=epoch)\n",
    "    tf.summary.scalar('accuracy', train_accuracy.result(), step=epoch)\n",
    "```\n",
    "完整example：\n",
    "\n",
    "```python \n",
    "current_time = datetime.datetime.now().strftime(\"%Y%m%d-%H%M%S\")\n",
    "train_log_dir = 'logs/gradient_tape/' + current_time + '/train'\n",
    "train_summary_writer = tf.summary.create_file_writer(train_log_dir)\n",
    "\n",
    "model = create_model() # reset our model\n",
    "\n",
    "EPOCHS = 5\n",
    "\n",
    "for epoch in range(EPOCHS):\n",
    "    for (x_train, y_train) in train_dataset:\n",
    "        train_step(model, optimizer, x_train, y_train)\n",
    "    with train_summary_writer.as_default():\n",
    "        tf.summary.scalar('loss', train_loss.result(), step=epoch)\n",
    "        tf.summary.scalar('accuracy', train_accuracy.result(), step=epoch)\n",
    "\n",
    "    template = 'Epoch {}, Loss: {}, Accuracy: {}, Test Loss: {}, Test Accuracy: {}'\n",
    "    print (template.format(epoch+1,\n",
    "                         train_loss.result(), \n",
    "                         train_accuracy.result()*100,\n",
    "                         test_loss.result(), \n",
    "                         test_accuracy.result()*100))\n",
    "\n",
    "    # Reset metrics every epoch\n",
    "    train_loss.reset_states()\n",
    "    train_accuracy.reset_states()\n",
    "\n",
    "```"
   ]
  },
  {
   "cell_type": "markdown",
   "id": "f8fe3830",
   "metadata": {},
   "source": [
    "## 通过callback定义\n",
    "**以learning rate为例：**\n",
    "\n",
    "```python \n",
    "def lr_schedule(epoch):\n",
    "  \"\"\"\n",
    "  Returns a custom learning rate that decreases as epochs progress.\n",
    "  \"\"\"\n",
    "    learning_rate = 0.2\n",
    "    if epoch > 10:\n",
    "        learning_rate = 0.02\n",
    "    if epoch > 20:\n",
    "        learning_rate = 0.01\n",
    "    if epoch > 50:\n",
    "        learning_rate = 0.005\n",
    "\n",
    "    tf.summary.scalar('learning rate', data=learning_rate, step=epoch)\n",
    "    return learning_rate\n",
    "\n",
    "lr_callback = keras.callbacks.LearningRateScheduler(lr_schedule)\n",
    "\n",
    "...\n",
    "\n",
    "training_history = model.fit(\n",
    "    x_train, # input\n",
    "    y_train, # output\n",
    "    batch_size=train_size,\n",
    "    verbose=0, # Suppress chatty output; use Tensorboard instead\n",
    "    epochs=100,\n",
    "    validation_data=(x_test, y_test),\n",
    "    callbacks=[tensorboard_callback, lr_callback],\n",
    ")\n",
    "```"
   ]
  },
  {
   "cell_type": "markdown",
   "id": "36d9bb27",
   "metadata": {},
   "source": [
    "**可视化[embedding](https://www.tensorflow.org/tensorboard/tensorboard_projector_plugin)、[Hparameter tuning](https://www.tensorflow.org/tensorboard/hyperparameter_tuning_with_hparams)**可以查看官方文档。"
   ]
  },
  {
   "cell_type": "markdown",
   "id": "ec3a4540",
   "metadata": {},
   "source": [
    "# [callbacks](https://www.tensorflow.org/guide/keras/writing_your_own_callbacks)\n",
    "1. A callback is a powerful tool to customize the behavior of a Keras model during training, evaluation, or inference.\n",
    "2. Callbacks are useful to get a view on internal states and statistics of the model during training.\n",
    "3. You can pass a list of callbacks (as the keyword argument callbacks) to the following model methods:\n",
    "- keras.Model.fit()\n",
    "- keras.Model.evaluate()\n",
    "- keras.Model.predict()\n",
    "4. It has a series of method,see: [An overview of callback methods](https://www.tensorflow.org/guide/keras/writing_your_own_callbacks#an_overview_of_callback_methods)"
   ]
  },
  {
   "cell_type": "markdown",
   "id": "2e5d2cfe",
   "metadata": {},
   "source": [
    "## 其中比较常用的是基于self.model\n",
    "Here are a few of the things you can do with self.model in a callback:\n",
    "\n",
    "1. Set self.model.stop_training = True to **immediately interrupt training**.\n",
    "2. **Mutate hyperparameters** of the optimizer (available as self.model.optimizer), such as self.model.optimizer.learning_rate.\n",
    "3. **Save the model** at period intervals.\n",
    "4. **Record the output of model.predict() on a few test samples** at the end of each epoch, to use as a sanity check during training.\n",
    "5. **Extract visualizations of intermediate features** at the end of each epoch, to monitor what the model is learning over time.\n",
    "\n",
    "两个例子：  \n",
    "[Early stopping at minimum loss](https://www.tensorflow.org/guide/keras/writing_your_own_callbacks#early_stopping_at_minimum_loss)  \n",
    "[Learning rate scheduling](https://www.tensorflow.org/guide/keras/writing_your_own_callbacks#learning_rate_scheduling)"
   ]
  },
  {
   "cell_type": "code",
   "execution_count": null,
   "id": "a051c0da",
   "metadata": {},
   "outputs": [],
   "source": []
  }
 ],
 "metadata": {
  "kernelspec": {
   "display_name": "tf38",
   "language": "python",
   "name": "tf38"
  },
  "language_info": {
   "codemirror_mode": {
    "name": "ipython",
    "version": 3
   },
   "file_extension": ".py",
   "mimetype": "text/x-python",
   "name": "python",
   "nbconvert_exporter": "python",
   "pygments_lexer": "ipython3",
   "version": "3.8.5"
  },
  "toc": {
   "base_numbering": 1,
   "nav_menu": {},
   "number_sections": true,
   "sideBar": true,
   "skip_h1_title": false,
   "title_cell": "Table of Contents",
   "title_sidebar": "Contents",
   "toc_cell": false,
   "toc_position": {},
   "toc_section_display": true,
   "toc_window_display": false
  }
 },
 "nbformat": 4,
 "nbformat_minor": 5
}
