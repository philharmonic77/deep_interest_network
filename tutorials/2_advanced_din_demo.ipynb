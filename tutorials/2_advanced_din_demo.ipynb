{
 "cells": [
  {
   "cell_type": "markdown",
   "id": "ac2165db",
   "metadata": {},
   "source": [
    "**背景:**\n",
    "\n",
    "承接demo_v1，完善上一篇被简化的部分。逐步代码模块化。"
   ]
  },
  {
   "cell_type": "code",
   "execution_count": 1,
   "id": "88c15894",
   "metadata": {},
   "outputs": [
    {
     "name": "stdout",
     "output_type": "stream",
     "text": [
      "version of tensorflow: 2.4.1\n"
     ]
    }
   ],
   "source": [
    "import numpy as np\n",
    "import tensorflow as tf\n",
    "from tensorflow import keras\n",
    "from tensorflow.keras import layers\n",
    "from tensorflow.keras import backend as K\n",
    "\n",
    "print(\"version of tensorflow:\", tf.__version__)"
   ]
  },
  {
   "cell_type": "markdown",
   "id": "8cb63e56",
   "metadata": {},
   "source": [
    "# 预备"
   ]
  },
  {
   "cell_type": "markdown",
   "id": "20e4b249",
   "metadata": {},
   "source": [
    "## mask & padding "
   ]
  },
  {
   "cell_type": "markdown",
   "id": "09ef38c8",
   "metadata": {},
   "source": [
    "对不等长的序列需要padding，一般是末尾用0补齐。  \n",
    "可以参考[官方guide](https://www.tensorflow.org/guide/keras/understanding_masking_and_padding#passing_mask_tensors_directly_to_layers)."
   ]
  },
  {
   "cell_type": "code",
   "execution_count": 2,
   "id": "4f7d0c2f",
   "metadata": {},
   "outputs": [
    {
     "name": "stdout",
     "output_type": "stream",
     "text": [
      "[[ 711  632   71    0    0    0]\n",
      " [  73    8 3215   55  927    0]\n",
      " [  83   91    1  645 1253  927]]\n"
     ]
    }
   ],
   "source": [
    "raw_inputs = [\n",
    "    [711, 632, 71],\n",
    "    [73, 8, 3215, 55, 927],\n",
    "    [83, 91, 1, 645, 1253, 927],\n",
    "]\n",
    "\n",
    "# tensorflow 2.12使用下面的代码\n",
    "# padded_inputs = tf.keras.utils.pad_sequences(\n",
    "#     raw_inputs, padding=\"post\"\n",
    "# )\n",
    "padded_inputs = tf.keras.preprocessing.sequence.pad_sequences(\n",
    "    raw_inputs, padding=\"post\"\n",
    ")\n",
    "print(padded_inputs)"
   ]
  },
  {
   "cell_type": "markdown",
   "id": "07251108",
   "metadata": {},
   "source": [
    "对序列做embedding，设置mask_zero=True，查看mask的效果。  "
   ]
  },
  {
   "cell_type": "code",
   "execution_count": 3,
   "id": "9be56469",
   "metadata": {},
   "outputs": [
    {
     "name": "stdout",
     "output_type": "stream",
     "text": [
      "tf.Tensor(\n",
      "[[ True  True  True False False False]\n",
      " [ True  True  True  True  True False]\n",
      " [ True  True  True  True  True  True]], shape=(3, 6), dtype=bool)\n"
     ]
    },
    {
     "name": "stderr",
     "output_type": "stream",
     "text": [
      "2023-06-01 16:40:57.109515: I tensorflow/compiler/jit/xla_cpu_device.cc:41] Not creating XLA devices, tf_xla_enable_xla_devices not set\n",
      "2023-06-01 16:40:57.109832: I tensorflow/core/platform/cpu_feature_guard.cc:142] This TensorFlow binary is optimized with oneAPI Deep Neural Network Library (oneDNN) to use the following CPU instructions in performance-critical operations:  SSE4.2\n",
      "To enable them in other operations, rebuild TensorFlow with the appropriate compiler flags.\n"
     ]
    }
   ],
   "source": [
    "embedding = layers.Embedding(input_dim=5000, output_dim=16, mask_zero=True)\n",
    "masked_output = embedding(padded_inputs)\n",
    "\n",
    "print(masked_output._keras_mask)"
   ]
  },
  {
   "cell_type": "markdown",
   "id": "4992d006",
   "metadata": {},
   "source": [
    "**备注：**  \n",
    "1. 在使用tf.keras的Sequence或者Functional API时，mask layer或者指明了mask的embedding layer的下游，只要支持mask都会自动使用这个信息。\n",
    "2. 可以认为embedding是mask的生产者，它实现了compute_mask方法供调用；rnn或者lstm等是mask的消费者，他们的__call__方法里支持mask参数，可以手动传进去。 \n",
    "3. 在自定义layer的时候，需要重新实现compute_mask方法，参考[官方文档](https://www.tensorflow.org/api_docs/python/tf/keras/layers/Layer#compute_mask)和 [源代码](https://github.com/keras-team/keras/blob/v2.12.0/keras/engine/base_layer.py#L976-L998).\n",
    "\n",
    "  \n",
    "**回到DIN的实现上，sequence特征涉及embedding之后的pooling操作，以及attention部分，都需要处理mask的问题。**"
   ]
  },
  {
   "cell_type": "markdown",
   "id": "2eb29d9f",
   "metadata": {},
   "source": [
    "## 规范feature column参数"
   ]
  },
  {
   "cell_type": "markdown",
   "id": "5cf4e2bc",
   "metadata": {},
   "source": [
    "### dense feature \n",
    "这类特征可以直接作为模型的输入，或者先[分桶](https://www.tensorflow.org/api_docs/python/tf/keras/layers/Discretization)然后再考虑是否embedding。"
   ]
  },
  {
   "cell_type": "code",
   "execution_count": 4,
   "id": "138f5765",
   "metadata": {},
   "outputs": [],
   "source": [
    "# 如果不做处理\n",
    "age = {\n",
    "    \"name\": \"age\",\n",
    "    \"dtype\": \"float32\",\n",
    "    \"dim\": 1 # 1维\n",
    "}\n",
    "\n",
    "# 如果需要分桶再embedding\n",
    "age = {\n",
    "    \"name\": \"age\",\n",
    "    \"dtype\": \"float32\",\n",
    "    \"dim\": 1, # 1维\n",
    "    \n",
    "    \"use_bucket\": True,\n",
    "    \"bins\": [20, 30, 40, 50, 60], # 若use_bucket=False以下可以不填\n",
    "    \"emb_name\": \"age_emb\",\n",
    "    \"emb_dim\": 8\n",
    "}\n",
    "\n",
    "# 多维：view 各个cid的次数\n",
    "view_cid_cnt = {\n",
    "    \"name\": \"view_cid_cnt\",\n",
    "    \"dtype\": \"float32\",\n",
    "    \"dim\": 100 # 100维   \n",
    "}"
   ]
  },
  {
   "cell_type": "markdown",
   "id": "4e01a908",
   "metadata": {},
   "source": [
    "### sparse feature\n",
    "这类特征可以直接embedding，但是如果取值过多也可以先hash到有限个取值上。参考[这里](https://www.tensorflow.org/guide/keras/preprocessing_layers#applying_the_hashing_trick_to_an_integer_categorical_feature)。"
   ]
  },
  {
   "cell_type": "code",
   "execution_count": 5,
   "id": "644bee0d",
   "metadata": {},
   "outputs": [],
   "source": [
    "iid = {\n",
    "    \"name\": \"iid\",\n",
    "    \"dtype\": \"bytes\",\n",
    "    \n",
    "    \"vocab_size\": 100000,\n",
    "    \"use_hash\": True, # 若use_hash=False，hash_size可以不填\n",
    "    \"hash_size\": 10000,\n",
    "    \"emb_name\": \"iid_emb\",\n",
    "    \"emb_dim\": 1000    \n",
    "}"
   ]
  },
  {
   "cell_type": "markdown",
   "id": "e0397c01",
   "metadata": {},
   "source": [
    "### seq/multi sparse feature\n",
    "这类特征dim>1，可能是sequence，也可以不是，eg：tag list。和sparse feature相比，需要多定义max_len, combiner(pooling参数)."
   ]
  },
  {
   "cell_type": "code",
   "execution_count": 6,
   "id": "156a30f7",
   "metadata": {},
   "outputs": [],
   "source": [
    "view_iid = {\n",
    "    \"name\": \"iid\",\n",
    "    \"dtype\": \"bytes\",\n",
    "    \"max_len\": 100,\n",
    "    \n",
    "    \"vocab_size\": 100000,\n",
    "    \"use_hash\": True,\n",
    "    \"hash_size\": 10000, # 若use_hash=False，hash_size可以不填\n",
    "    \"emb_name\": \"iid_emb\",\n",
    "    \"emb_dim\": 1000,\n",
    "    \n",
    "    \"need_padding\": True, # 如果输入不定长，则需要设置为True\n",
    "    \"combiner\": \"mean\"    \n",
    "}"
   ]
  },
  {
   "cell_type": "markdown",
   "id": "2388e25e",
   "metadata": {},
   "source": [
    "# 代码模块化"
   ]
  },
  {
   "cell_type": "markdown",
   "id": "693a1448",
   "metadata": {},
   "source": [
    "## 定义feature column\n",
    "1. tensorflow 2.0以上，不再使用feature column，转而用tf.keras.layers。两者的对应关系可以查看[官方文档](https://www.tensorflow.org/guide/migrate/migrating_feature_columns#feature_column_equivalence_table). \n",
    "2. 三种特征类型这里使用namedtuple类来定义，可以参考namedtuple的[教程](https://realpython.com/python-namedtuple/#subclassing-namedtuple-classes). 这样做可以增加代码可读性，适用于定义属性多，方法少的类。"
   ]
  },
  {
   "cell_type": "code",
   "execution_count": 7,
   "id": "e11228ae",
   "metadata": {},
   "outputs": [],
   "source": [
    "from collections import namedtuple"
   ]
  },
  {
   "cell_type": "code",
   "execution_count": 8,
   "id": "11ab482d",
   "metadata": {},
   "outputs": [],
   "source": [
    "class DenseFeat(namedtuple('DenseFeat', ['name', 'dtype', 'dim', 'use_bucket', 'bins', 'emb_name', 'emb_dim'])):\n",
    "    \n",
    "    # use __slots__ = () to prevent the automatic creation of a per-instance __dict__\n",
    "    # keep memory efficient\n",
    "    __slots__ = () \n",
    "\n",
    "    # set default value of arguments\n",
    "    def __new__(cls, name, dtype=\"float32\", dim=1, use_bucket=False, bins=None, emb_name=None, emb_dim=None):\n",
    "        \n",
    "        if emb_dim is not None and emb_name is None:\n",
    "            emb_name = name \n",
    "        return super(DenseFeat, cls).__new__(cls, name, dtype, dim, use_bucket, bins, emb_name, emb_dim)\n",
    "    "
   ]
  },
  {
   "cell_type": "code",
   "execution_count": 9,
   "id": "b8940394",
   "metadata": {},
   "outputs": [],
   "source": [
    "class SparseFeat(namedtuple('SparseFeat', ['name', 'vocab_size', 'emb_dim', 'dtype', 'use_hash', 'hash_size', 'emb_name'])):\n",
    "    \n",
    "    __slots__ = () \n",
    "    \n",
    "    def __new__(cls, name, vocab_size, emb_dim, dtype=\"int32\", use_hash=False, hash_size=None, emb_name=None):\n",
    "        \n",
    "        if emb_name is None:\n",
    "            emb_name = name\n",
    "\n",
    "        return super(SparseFeat, cls).__new__(cls, name, vocab_size, emb_dim, dtype, use_hash, hash_size, emb_name)  \n",
    "    "
   ]
  },
  {
   "cell_type": "markdown",
   "id": "ab61aaac",
   "metadata": {},
   "source": [
    "MultiSparseFeat是多个SparseFeat类采用嵌套的形式，需要解析出SparseFeat类的属性。  \n",
    "is_sequence=True则自动支持mask。"
   ]
  },
  {
   "cell_type": "code",
   "execution_count": 10,
   "id": "17502992",
   "metadata": {},
   "outputs": [],
   "source": [
    "class MultiSparseFeat(namedtuple('SeqSparseFeat', ['sparsefeat', 'max_len', 'need_padding', 'combiner', 'is_sequence'])):\n",
    "    \n",
    "    __slots__ = () \n",
    "    \n",
    "    def __new__ (cls, sparsefeat, max_len, need_padding=False, combiner='mean', is_sequence=False):\n",
    "        return super(MultiSparseFeat, cls).__new__(cls, sparsefeat, max_len, need_padding, combiner, is_sequence)\n",
    "    \n",
    "    @property\n",
    "    def name(self):\n",
    "        return self.sparsefeat.name\n",
    "    \n",
    "    @property\n",
    "    def vocab_size(self):\n",
    "        return self.sparsefeat.vocab_size    \n",
    "    \n",
    "    @property\n",
    "    def emb_dim(self):\n",
    "        return self.sparsefeat.emb_dim  \n",
    "    \n",
    "    @property\n",
    "    def dtype(self):\n",
    "        return self.sparsefeat.dtype  \n",
    "    \n",
    "    @property\n",
    "    def use_hash(self):\n",
    "        return self.sparsefeat.use_hash  \n",
    "    \n",
    "    @property\n",
    "    def hash_size(self):\n",
    "        return self.sparsefeat.hash_size  \n",
    "    \n",
    "    @property\n",
    "    def emb_name(self):\n",
    "        return self.sparsefeat.emb_name  "
   ]
  },
  {
   "cell_type": "markdown",
   "id": "25659c82",
   "metadata": {},
   "source": [
    "## 自定义mlp结构"
   ]
  },
  {
   "cell_type": "markdown",
   "id": "5c0b856f",
   "metadata": {},
   "source": [
    "这部分是继承keras.layers，实现自定义的layer，可以参考[官方文档](https://www.tensorflow.org/guide/keras/making_new_layers_and_models_via_subclassing)，主要是希望代码更结构化更清晰。  \n",
    "自定义layer里关于get_config、from_config的说明可以查看[这里](https://www.tensorflow.org/guide/keras/serialization_and_saving#savedmodel_format)。"
   ]
  },
  {
   "cell_type": "code",
   "execution_count": 11,
   "id": "de7ef15c",
   "metadata": {},
   "outputs": [],
   "source": [
    "from tensorflow.python.keras.layers import Layer"
   ]
  },
  {
   "cell_type": "code",
   "execution_count": 12,
   "id": "d007a4a0",
   "metadata": {},
   "outputs": [],
   "source": [
    "class MLP(Layer):\n",
    "    \"\"\"The Multi Layer Percetron\n",
    "\n",
    "      Input shape\n",
    "        - nD tensor with shape: ``(batch_size, ..., input_dim)``. The most common situation would be a 2D input with shape ``(batch_size, input_dim)``.\n",
    "\n",
    "      Output shape\n",
    "        - nD tensor with shape: ``(batch_size, ..., hidden_size[-1])``. For instance, for a 2D input with shape ``(batch_size, input_dim)``, the output would have shape ``(batch_size, hidden_size[-1])``.\n",
    "\n",
    "    \"\"\"\n",
    "    def __init__(self, hidden_units, activation='relu', l2_reg=0, dropout_rate=0, use_bn=False, seed=1024, **kwargs):\n",
    "        self.hidden_units = hidden_units\n",
    "        self.activation = activation\n",
    "        self.l2_reg = l2_reg\n",
    "        self.dropout_rate = dropout_rate\n",
    "        self.use_bn = use_bn  \n",
    "        self.seed = seed\n",
    "        super(MLP, self).__init__(**kwargs)\n",
    "        \n",
    "    def build(self, input_shape):\n",
    "                    \n",
    "        if self.l2_reg > 0:\n",
    "            self.mlp_layers = [layers.Dense(units=unit, activation=None, \n",
    "                                                kernel_regularizer=tf.keras.regularizers.l2(self.l2_reg)) for unit in self.hidden_units]\n",
    "        else:\n",
    "            self.mlp_layers = [layers.Dense(units=unit, activation=None) for unit in self.hidden_units]\n",
    "                \n",
    "        if self.use_bn:\n",
    "            self.bn_layers = [layers.BatchNormalization() for _ in range(len(self.hidden_units))]\n",
    "            \n",
    "        self.activation_layers = [layers.Activation(self.activation) for _ in range(len(self.hidden_units))]\n",
    "\n",
    "        self.dropout_layers = [layers.Dropout(self.dropout_rate, seed=self.seed + i) for i in\n",
    "                               range(len(self.hidden_units))]  \n",
    "        \n",
    "    def call(self, inputs, training=None, **kwargs):\n",
    "\n",
    "        deep_input = inputs\n",
    "\n",
    "        for i in range(len(self.hidden_units)):\n",
    "            fc = self.mlp_layers[i](deep_input)\n",
    "\n",
    "            if self.use_bn:\n",
    "                fc = self.bn_layers[i](fc, training=training)\n",
    "            \n",
    "            fc = self.activation_layers[i](fc)\n",
    "\n",
    "            fc = self.dropout_layers[i](fc, training=training)\n",
    "            \n",
    "            deep_input = fc\n",
    "            \n",
    "        return deep_input\n",
    "\n",
    "    def compute_output_shape(self, input_shape):\n",
    "        if len(self.hidden_units) > 0:\n",
    "            shape = input_shape[:-1] + (self.hidden_units[-1],)\n",
    "        else:\n",
    "            shape = input_shape\n",
    "\n",
    "        return tuple(shape)\n",
    "\n",
    "    def get_config(self, ):\n",
    "        config = {'activation': self.activation, 'hidden_units': self.hidden_units,\n",
    "                  'l2_reg': self.l2_reg, 'use_bn': self.use_bn, 'dropout_rate': self.dropout_rate, 'seed': self.seed}\n",
    "        base_config = super(MLP, self).get_config()\n",
    "        return dict(list(base_config.items()) + list(config.items()))     \n",
    "    "
   ]
  },
  {
   "cell_type": "markdown",
   "id": "72d0ccb3",
   "metadata": {},
   "source": [
    "## 自定义din结构"
   ]
  },
  {
   "cell_type": "markdown",
   "id": "2acd2f08",
   "metadata": {},
   "source": [
    "最小激活单元，mlp结构，输出注意力得分。"
   ]
  },
  {
   "cell_type": "code",
   "execution_count": 13,
   "id": "59f2ba62",
   "metadata": {},
   "outputs": [],
   "source": [
    "class LocalActivationUnit(Layer):\n",
    "    \"\"\"\n",
    "      Input shape\n",
    "        - A list of two 3D tensor with shape:  ``(batch_size, 1, embedding_size)`` and ``(batch_size, T, embedding_size)``\n",
    "\n",
    "      Output shape : attention scores \n",
    "        - 3D tensor with shape: ``(batch_size, T, 1)``\n",
    "    \"\"\"\n",
    "    def __init__(self, hidden_units=(64, 32), activation='sigmoid', l2_reg=0, dropout_rate=0, use_bn=False, seed=1024,\n",
    "                 **kwargs):\n",
    "        self.hidden_units = hidden_units\n",
    "        self.activation = activation\n",
    "        self.l2_reg = l2_reg\n",
    "        self.dropout_rate = dropout_rate\n",
    "        self.use_bn = use_bn\n",
    "        self.seed = seed\n",
    "        super(LocalActivationUnit, self).__init__(**kwargs)\n",
    "        self.supports_masking = True \n",
    "    \n",
    "    def build(self, input_shape):\n",
    "        \n",
    "        self.mlp = MLP(self.hidden_units, self.activation, self.l2_reg, self.dropout_rate, self.use_bn, seed=self.seed)\n",
    "        self.out_layer = keras.layers.Dense(units=1, activation='sigmoid') \n",
    "        \n",
    "    def call(self, inputs, training=None, **kwargs):\n",
    "\n",
    "        query, keys = inputs\n",
    "\n",
    "        keys_len = keys.get_shape()[1]\n",
    "        queries = K.repeat_elements(query, keys_len, 1)\n",
    "\n",
    "        att_input = tf.concat(\n",
    "            [queries, keys, queries - keys, queries * keys], axis=-1)\n",
    "\n",
    "        att_out = self.mlp(att_input, training=training)\n",
    "\n",
    "        attention_score = self.out_layer(att_out)\n",
    "\n",
    "        return attention_score   \n",
    "    \n",
    "    def compute_output_shape(self, input_shape):\n",
    "        return input_shape[1][:2] + (1,)\n",
    "\n",
    "    def compute_mask(self, inputs, mask):\n",
    "        return mask\n",
    "\n",
    "    def get_config(self, ):\n",
    "        config = {'activation': self.activation, 'hidden_units': self.hidden_units,\n",
    "                  'l2_reg': self.l2_reg, 'dropout_rate': self.dropout_rate, 'use_bn': self.use_bn, 'seed': self.seed}\n",
    "        base_config = super(LocalActivationUnit, self).get_config()\n",
    "        return dict(list(base_config.items()) + list(config.items()))       \n",
    "    "
   ]
  },
  {
   "cell_type": "markdown",
   "id": "c5833d56",
   "metadata": {},
   "source": [
    "下面写完整的layer，这里supports_masking设置为True，注意input（这里input是embedding）一定要支持mask。"
   ]
  },
  {
   "cell_type": "code",
   "execution_count": 14,
   "id": "8ae9023b",
   "metadata": {},
   "outputs": [],
   "source": [
    "class AttentionSequencePoolingLayer(Layer):\n",
    "    \"\"\"The Attentional sequence pooling operation used in DIN.\n",
    "\n",
    "      Input shape\n",
    "        - A list of three tensor: [query,keys,keys_length]\n",
    "\n",
    "        - query is a 3D tensor with shape:  ``(batch_size, 1, embedding_size)``\n",
    "\n",
    "        - keys is a 3D tensor with shape:   ``(batch_size, T, embedding_size)``\n",
    "\n",
    "      Output shape\n",
    "        - 3D tensor with shape: ``(batch_size, 1, embedding_size)``.\n",
    "\n",
    "    \"\"\"\n",
    "\n",
    "    def __init__(self, att_hidden_units=(80, 40), att_activation='sigmoid', **kwargs):\n",
    "\n",
    "        self.att_hidden_units = att_hidden_units\n",
    "        self.att_activation = att_activation\n",
    "        super(AttentionSequencePoolingLayer, self).__init__(**kwargs)\n",
    "        self.supports_masking = True\n",
    "\n",
    "    def build(self, input_shape):\n",
    "        self.local_att = LocalActivationUnit(\n",
    "            self.att_hidden_units, self.att_activation, l2_reg=0, dropout_rate=0, use_bn=False, seed=1024, )\n",
    "\n",
    "    def call(self, inputs, mask=None, training=None, **kwargs):\n",
    "        if mask is None:\n",
    "            raise ValueError(\n",
    "                \"When supports_masking=True,input must support masking\")\n",
    "            \n",
    "        queries, keys = inputs\n",
    "        key_masks = tf.expand_dims(mask[-1], axis=1)\n",
    "\n",
    "        attention_score = self.local_att([queries, keys], training=training)\n",
    "\n",
    "        outputs = tf.transpose(attention_score, (0, 2, 1)) # (batch, 1, T)\n",
    "        \n",
    "        paddings = tf.zeros_like(outputs)\n",
    "        \n",
    "        outputs = tf.where(key_masks, outputs, paddings)\n",
    "\n",
    "        outputs = tf.matmul(outputs, keys) # (batch, 1, T) * (batch, T, embedding_size)\n",
    "\n",
    "        return outputs # (batch, 1, embedding_size)\n",
    "\n",
    "    def compute_output_shape(self, input_shape):\n",
    "        return (None, 1, input_shape[0][-1])\n",
    "\n",
    "    def compute_mask(self, inputs, mask):\n",
    "        return None\n",
    "\n",
    "    def get_config(self, ):\n",
    "\n",
    "        config = {'att_hidden_units': self.att_hidden_units, 'att_activation': self.att_activation}\n",
    "        base_config = super(AttentionSequencePoolingLayer, self).get_config()\n",
    "        return dict(list(base_config.items()) + list(config.items()))"
   ]
  },
  {
   "cell_type": "code",
   "execution_count": 15,
   "id": "29686455",
   "metadata": {},
   "outputs": [],
   "source": [
    "class SequencePoolingLayer(Layer):\n",
    "    \"\"\"The SequencePoolingLayer is used to apply pooling operation(sum,mean,max) on variable-length sequence feature/multi-value feature.\n",
    "\n",
    "      Input shape\n",
    "\n",
    "        - seq_value is a 3D tensor with shape: ``(batch_size, T, embedding_size)``\n",
    "\n",
    "      Output shape\n",
    "        - 3D tensor with shape: ``(batch_size, 1, embedding_size)``.\n",
    "\n",
    "      Arguments\n",
    "        - **mode**:str.Pooling operation to be used,can be sum,mean or max.\n",
    "\n",
    "        - **supports_masking**:If True,the input need to support masking.\n",
    "    \"\"\"\n",
    "\n",
    "    def __init__(self, mode='mean', supports_masking=False, **kwargs):\n",
    "\n",
    "        if mode not in ['sum', 'mean', 'max']:\n",
    "            raise ValueError(\"mode must be sum or mean\")\n",
    "        self.mode = mode\n",
    "        self.eps = tf.constant(1e-8, tf.float32)\n",
    "        super(SequencePoolingLayer, self).__init__(**kwargs)\n",
    "\n",
    "        self.supports_masking = supports_masking\n",
    "\n",
    "\n",
    "    def call(self, seq_value, mask=None, **kwargs):\n",
    "        if not self.supports_masking:\n",
    "            if self.mode == \"max\":\n",
    "                return reduce_max(seq_value, 1, keepdims=True)\n",
    "\n",
    "            hist = tf.reduce_sum(seq_value, 1, keepdims=False) # (batch_size, embedding_size)\n",
    "\n",
    "            if self.mode == \"mean\":\n",
    "                seq_len = seq_value.shape[1]\n",
    "                hist = tf.math.divide(hist, tf.cast(seq_len, tf.float32) + self.eps)\n",
    "\n",
    "            hist = tf.expand_dims(hist, axis=1) # (batch_size, 1， embedding_size)\n",
    "            return hist\n",
    "        else:\n",
    "            if mask is None:\n",
    "                raise ValueError(\n",
    "                    \"When supports_masking=True,input must support masking\")\n",
    "            mask = tf.cast(mask, tf.float32)  # (batch_size, T)\n",
    "            seq_len = reduce_sum(mask, axis=-1, keepdims=True) # (batch_size, 1)\n",
    "            mask = tf.expand_dims(mask, axis=2) # (batch_size, T, 1)\n",
    "\n",
    "            embedding_size = seq_value.shape[-1]\n",
    "\n",
    "            mask = tf.tile(mask, [1, 1, embedding_size]) # (batch_size, T, embedding_size)\n",
    "\n",
    "            if self.mode == \"max\":\n",
    "                hist = seq_value - (1 - mask) * 1e9\n",
    "                return reduce_max(hist, 1, keepdims=True)\n",
    "\n",
    "            hist = tf.reduce_sum(seq_value * mask, 1, keepdims=False) # (batch_size, embedding_size)\n",
    "\n",
    "            if self.mode == \"mean\":\n",
    "                hist = tf.math.divide(hist, tf.cast(seq_len, tf.float32) + self.eps)\n",
    "\n",
    "            hist = tf.expand_dims(hist, axis=1) # (batch_size, 1， embedding_size)\n",
    "            return hist\n",
    "\n",
    "    def compute_output_shape(self, input_shape):\n",
    "        return (None, 1, input_shape[-1])\n",
    "\n",
    "    def compute_mask(self, inputs, mask):\n",
    "        return None\n",
    "\n",
    "    def get_config(self, ):\n",
    "        config = {'mode': self.mode, 'supports_masking': self.supports_masking}\n",
    "        base_config = super(SequencePoolingLayer, self).get_config()\n",
    "        return dict(list(base_config.items()) + list(config.items()))"
   ]
  },
  {
   "cell_type": "markdown",
   "id": "42fb6e9f",
   "metadata": {},
   "source": [
    "# 模拟数据"
   ]
  },
  {
   "cell_type": "markdown",
   "id": "7e972e1b",
   "metadata": {},
   "source": [
    "**和demo_v1相比，有以下变化：**\n",
    "1. 已经定义了feature column类，这里直接用这些类生成模拟数据。\n",
    "2. 保证每类特征至少有两个，以便更好的测试代码。\n",
    "3. 考虑序列特征的mask。"
   ]
  },
  {
   "cell_type": "code",
   "execution_count": 16,
   "id": "4bb80fb3",
   "metadata": {},
   "outputs": [],
   "source": [
    "def generate_xy():\n",
    "    # sparse\n",
    "    uid = np.array([0, 1, 2])\n",
    "    gender = np.array([0, 1, 0])\n",
    "    \n",
    "    # dense\n",
    "    age = np.array([20, 45, 62]) # 分桶\n",
    "    pay_score = np.array([0.1, 0.2, 0.3])\n",
    "    actv_score = np.array([[0.8, 0.3], [0.9, 0.9], [0.4, 0.2]])\n",
    "       \n",
    "    # sparse （item feat）\n",
    "    item_id = np.array([1, 2, 3]) \n",
    "    cate_id = np.array([1, 2, 2])\n",
    "\n",
    "    # seq sparse \n",
    "    hist_item_id = np.array([[1, 2, 3, 0], [3, 2, 1, 2], [1, 2, 1, 0]]) # 0是padding，max_len = 4 \n",
    "    hist_cate_id = np.array([[1, 2, 2, 0], [2, 2, 1, 1], [1, 2, 1, 0]]) # 0是padding，max_len = 4 \n",
    "    \n",
    "    # multi sparse， 定长，不需要padding\n",
    "    pos_lvl = np.array([[9, 8, 6], [4, 4, 7], [3, 5, 3]])\n",
    "    neg_lvl = np.array([[1, 1], [2, 6], [8, 2]])\n",
    "    \n",
    "\n",
    "    x = {'uid': uid, 'gender': gender, 'age': age, 'pay_score': pay_score, 'actv_score':actv_score,\n",
    "            'item_id': item_id, 'cate_id': cate_id, 'hist_item_id': hist_item_id, 'hist_cate_id': hist_cate_id,\n",
    "            'pos_lvl': pos_lvl, 'neg_lvl': neg_lvl}\n",
    "    \n",
    "    y = np.array([[1], [0], [1]])\n",
    "    return x, y\n",
    "\n",
    "x, y = generate_xy() "
   ]
  },
  {
   "cell_type": "code",
   "execution_count": 17,
   "id": "594dd8cc",
   "metadata": {},
   "outputs": [],
   "source": [
    "# 定义feature config \n",
    "# todo: hash的情况暂不实现\n",
    "feature_config = {\n",
    "    'uid': SparseFeat(name='uid', vocab_size=10, emb_dim=6),\n",
    "    'gender': SparseFeat(name='gender', vocab_size=2, emb_dim=4),\n",
    "    \n",
    "    'item_id': SparseFeat(name='item_id', vocab_size=100, emb_dim=8, emb_name='item_id'),\n",
    "    'cate_id': SparseFeat(name='cate_id', vocab_size=20, emb_dim=4, emb_name='cate_id'),\n",
    "    \n",
    "#     'age': DenseFeat(name='age', dim=1, use_bucket=True, bins=[20, 40, 60]),\n",
    "    'age': DenseFeat(name='age', dim=1, use_bucket=True, bins=[10,20,30,40,50,60,70,80], emb_dim=4),\n",
    "    'pay_score': DenseFeat(name='pay_score', dim=1),\n",
    "    'actv_score': DenseFeat(name='actv_score', dim=2),\n",
    "    \n",
    "    'pos_lvl': MultiSparseFeat(SparseFeat(name='pos_lvl', vocab_size=10, emb_dim=8), max_len=3),\n",
    "    'neg_lvl': MultiSparseFeat(SparseFeat(name='neg_lvl', vocab_size=10, emb_dim=8), max_len=2),\n",
    "    \n",
    "    # 因为要share embedding， 这里必须指定emb_name \n",
    "    'hist_item_id': MultiSparseFeat(SparseFeat(name='hist_item_id', vocab_size=3+1, emb_dim=6, emb_name='item_id'), max_len=4, is_sequence=True),\n",
    "    'hist_cate_id': MultiSparseFeat(SparseFeat(name='hist_cate_id', vocab_size=2+1, emb_dim=4, emb_name='cate_id'), max_len=4, is_sequence=True)\n",
    "}"
   ]
  },
  {
   "cell_type": "markdown",
   "id": "f8a032bb",
   "metadata": {},
   "source": [
    "# 构建模型"
   ]
  },
  {
   "cell_type": "markdown",
   "id": "8fe88dad",
   "metadata": {},
   "source": [
    "## 构建input"
   ]
  },
  {
   "cell_type": "code",
   "execution_count": 18,
   "id": "838d5c09",
   "metadata": {},
   "outputs": [],
   "source": [
    "from collections import OrderedDict\n",
    "\n",
    "\n",
    "def build_keras_input(config):\n",
    "    input_features = OrderedDict()\n",
    "    for name, fc in config.items():\n",
    "        if isinstance(fc, SparseFeat):\n",
    "            input_features[fc.name] = keras.Input(\n",
    "                shape=(1,), name=fc.name, dtype=fc.dtype)\n",
    "        \n",
    "        elif isinstance(fc, DenseFeat):\n",
    "            raw_input = keras.Input(\n",
    "                shape=(fc.dim,), name=fc.name, dtype=fc.dtype)\n",
    "            input_features[fc.name] = raw_input\n",
    "        \n",
    "        elif isinstance(fc, MultiSparseFeat):\n",
    "            input_features[fc.name] = keras.Input(shape=(fc.max_len,), name=fc.name,\n",
    "                                            dtype=fc.dtype)\n",
    "        else:\n",
    "            raise TypeError(\"Invalid feature column type,got\", type(fc))\n",
    "    return input_features"
   ]
  },
  {
   "cell_type": "code",
   "execution_count": 19,
   "id": "4e7abf3c",
   "metadata": {},
   "outputs": [
    {
     "data": {
      "text/plain": [
       "OrderedDict([('uid',\n",
       "              <KerasTensor: shape=(None, 1) dtype=int32 (created by layer 'uid')>),\n",
       "             ('gender',\n",
       "              <KerasTensor: shape=(None, 1) dtype=int32 (created by layer 'gender')>),\n",
       "             ('item_id',\n",
       "              <KerasTensor: shape=(None, 1) dtype=int32 (created by layer 'item_id')>),\n",
       "             ('cate_id',\n",
       "              <KerasTensor: shape=(None, 1) dtype=int32 (created by layer 'cate_id')>),\n",
       "             ('age',\n",
       "              <KerasTensor: shape=(None, 1) dtype=float32 (created by layer 'age')>),\n",
       "             ('pay_score',\n",
       "              <KerasTensor: shape=(None, 1) dtype=float32 (created by layer 'pay_score')>),\n",
       "             ('actv_score',\n",
       "              <KerasTensor: shape=(None, 2) dtype=float32 (created by layer 'actv_score')>),\n",
       "             ('pos_lvl',\n",
       "              <KerasTensor: shape=(None, 3) dtype=int32 (created by layer 'pos_lvl')>),\n",
       "             ('neg_lvl',\n",
       "              <KerasTensor: shape=(None, 2) dtype=int32 (created by layer 'neg_lvl')>),\n",
       "             ('hist_item_id',\n",
       "              <KerasTensor: shape=(None, 4) dtype=int32 (created by layer 'hist_item_id')>),\n",
       "             ('hist_cate_id',\n",
       "              <KerasTensor: shape=(None, 4) dtype=int32 (created by layer 'hist_cate_id')>)])"
      ]
     },
     "execution_count": 19,
     "metadata": {},
     "output_type": "execute_result"
    }
   ],
   "source": [
    "input_features = build_keras_input(feature_config)\n",
    "input_features"
   ]
  },
  {
   "cell_type": "markdown",
   "id": "1a916c91",
   "metadata": {},
   "source": [
    "## embedding"
   ]
  },
  {
   "cell_type": "code",
   "execution_count": 20,
   "id": "bc89baf3",
   "metadata": {},
   "outputs": [
    {
     "data": {
      "text/plain": [
       "{'uid': <tensorflow.python.keras.layers.embeddings.Embedding at 0x7ff5c81d51c0>,\n",
       " 'gender': <tensorflow.python.keras.layers.embeddings.Embedding at 0x7ff5c81d5610>,\n",
       " 'item_id': <tensorflow.python.keras.layers.embeddings.Embedding at 0x7ff5c81dd520>,\n",
       " 'cate_id': <tensorflow.python.keras.layers.embeddings.Embedding at 0x7ff5c81d5970>,\n",
       " 'age': <tensorflow.python.keras.layers.embeddings.Embedding at 0x7ff5c81d5dc0>,\n",
       " 'pos_lvl': <tensorflow.python.keras.layers.embeddings.Embedding at 0x7ff5c81d5d60>,\n",
       " 'neg_lvl': <tensorflow.python.keras.layers.embeddings.Embedding at 0x7ff5c81dd310>}"
      ]
     },
     "execution_count": 20,
     "metadata": {},
     "output_type": "execute_result"
    }
   ],
   "source": [
    "# config里有emb_dim的都会包括在这里\n",
    "def build_embedding_layer(config):\n",
    "    emb_layer_dict = {} \n",
    "    for name, fc in config.items():\n",
    "        if fc.emb_name is not None:\n",
    "            if isinstance(fc, DenseFeat):\n",
    "                emb_layer_dict[fc.emb_name] = layers.Embedding(len(fc.bins)+1, fc.emb_dim, \n",
    "                                                         name='emb_' + fc.emb_name)\n",
    "            elif isinstance(fc, SparseFeat):\n",
    "                emb_layer_dict[fc.emb_name] = layers.Embedding(fc.vocab_size, fc.emb_dim, \n",
    "                                                         name='emb_' + fc.emb_name)\n",
    "            elif isinstance(fc, MultiSparseFeat):\n",
    "                if fc.is_sequence:\n",
    "                    emb_layer_dict[fc.emb_name] = layers.Embedding(fc.vocab_size, fc.emb_dim, \n",
    "                                                        mask_zero=True,\n",
    "                                                        name='seq_emb_' + fc.emb_name)\n",
    "                else:\n",
    "                    emb_layer_dict[fc.emb_name] = layers.Embedding(fc.vocab_size, fc.emb_dim, \n",
    "                                                        name='seq_emb_' + fc.emb_name)\n",
    "            else:\n",
    "                raise TypeError(\"Invalid feature column type,got\", type(fc))\n",
    "    return emb_layer_dict\n",
    "    \n",
    "emb_layers = build_embedding_layer(feature_config)\n",
    "emb_layers"
   ]
  },
  {
   "cell_type": "code",
   "execution_count": 21,
   "id": "47ffe612",
   "metadata": {},
   "outputs": [
    {
     "name": "stdout",
     "output_type": "stream",
     "text": [
      "WARNING:tensorflow:Using a while_loop for converting BoostedTreesBucketize\n"
     ]
    },
    {
     "data": {
      "text/plain": [
       "OrderedDict([('uid',\n",
       "              <KerasTensor: shape=(None, 1, 6) dtype=float32 (created by layer 'emb_uid')>),\n",
       "             ('gender',\n",
       "              <KerasTensor: shape=(None, 1, 4) dtype=float32 (created by layer 'emb_gender')>),\n",
       "             ('item_id',\n",
       "              <KerasTensor: shape=(None, 1, 6) dtype=float32 (created by layer 'seq_emb_item_id')>),\n",
       "             ('cate_id',\n",
       "              <KerasTensor: shape=(None, 1, 4) dtype=float32 (created by layer 'seq_emb_cate_id')>),\n",
       "             ('age',\n",
       "              <KerasTensor: shape=(None, 1, 4) dtype=float32 (created by layer 'emb_age')>),\n",
       "             ('pay_score',\n",
       "              <KerasTensor: shape=(None, 1) dtype=float32 (created by layer 'pay_score')>),\n",
       "             ('actv_score',\n",
       "              <KerasTensor: shape=(None, 2) dtype=float32 (created by layer 'actv_score')>),\n",
       "             ('pos_lvl',\n",
       "              <KerasTensor: shape=(None, 3, 8) dtype=float32 (created by layer 'seq_emb_pos_lvl')>),\n",
       "             ('neg_lvl',\n",
       "              <KerasTensor: shape=(None, 2, 8) dtype=float32 (created by layer 'seq_emb_neg_lvl')>),\n",
       "             ('hist_item_id',\n",
       "              <KerasTensor: shape=(None, 4, 6) dtype=float32 (created by layer 'seq_emb_item_id')>),\n",
       "             ('hist_cate_id',\n",
       "              <KerasTensor: shape=(None, 4, 4) dtype=float32 (created by layer 'seq_emb_cate_id')>)])"
      ]
     },
     "execution_count": 21,
     "metadata": {},
     "output_type": "execute_result"
    }
   ],
   "source": [
    "def get_embedding_result(config, input_features, emb_layers):\n",
    "    result = OrderedDict() \n",
    "    for name, fc in config.items():\n",
    "        if fc.emb_name is not None:\n",
    "            if isinstance(fc, DenseFeat) and fc.use_bucket:\n",
    "                feature = layers.experimental.preprocessing.Discretization(bins=fc.bins)(input_features[fc.name])\n",
    "                result[fc.name] = emb_layers[fc.emb_name](feature)\n",
    "            else:\n",
    "                result[fc.name] = emb_layers[fc.emb_name](input_features[fc.name])\n",
    "        else:\n",
    "            result[fc.name] = input_features[fc.name]\n",
    "    return result \n",
    "\n",
    "all_features = get_embedding_result(feature_config, input_features, emb_layers)\n",
    "all_features"
   ]
  },
  {
   "cell_type": "markdown",
   "id": "01d6e71c",
   "metadata": {},
   "source": [
    "## 模型结构config"
   ]
  },
  {
   "cell_type": "code",
   "execution_count": 22,
   "id": "aedcae7d",
   "metadata": {},
   "outputs": [],
   "source": [
    "model_config = {\n",
    "    \"user_feat\": [\"uid\", \"gender\", \"age\", \"pay_score\", \"actv_score\", \"pos_lvl\", \"neg_lvl\"],\n",
    "    \"item_feat\": [\"item_id\", \"cate_id\"],\n",
    "    \"din\": [\"hist_item_id|item_id\", \"hist_cate_id|cate_id\"], # 这里必须是seq特征｜item特征 \n",
    "    \"din_config\": {\n",
    "        \"hidden_units\": (64, 32),\n",
    "        \"activation\": \"sigmoid\",\n",
    "    },\n",
    "    \"mlp_config\": {\n",
    "        \"hidden_units\": (128, 64, 64),\n",
    "        \"activation\": \"relu\",\n",
    "        \"use_bn\": True,\n",
    "        \"dropout_rate\": 0.2,\n",
    "        \"l2_reg\": 0 \n",
    "    },\n",
    "    \"loss\": \"logloss\",\n",
    "    \"target\": \"binary\"\n",
    "}"
   ]
  },
  {
   "cell_type": "markdown",
   "id": "31884ffb",
   "metadata": {},
   "source": [
    "## 构建模型"
   ]
  },
  {
   "cell_type": "code",
   "execution_count": 23,
   "id": "8d31a006",
   "metadata": {},
   "outputs": [],
   "source": [
    "def build_output(model_config, all_features):\n",
    "        \n",
    "    # DIN 部分\n",
    "    din_output = []\n",
    "    if model_config['din'] is not None: \n",
    "        \n",
    "        config = model_config['din_config']\n",
    "        \n",
    "        for pair in model_config['din']:\n",
    "            \n",
    "            key_name, query_name = pair.split('|')\n",
    "            \n",
    "            output = AttentionSequencePoolingLayer(\n",
    "                att_hidden_units = config['hidden_units'],\n",
    "                att_activation = config['activation']\n",
    "            )([all_features[query_name], all_features[key_name]])\n",
    "            \n",
    "            din_output.append(output)\n",
    "            \n",
    "    # 其他特征 \n",
    "    concat_list = din_output[:]\n",
    "    other_list = []\n",
    "    for fn in model_config['user_feat'] + model_config['item_feat']:\n",
    "        feature = all_features[fn]\n",
    "        shape = feature.shape\n",
    "        if len(shape) == 2:\n",
    "            other_list.append(feature)\n",
    "        elif len(shape) == 3:\n",
    "            if shape[1] == 1:\n",
    "                concat_list.append(feature)\n",
    "            else:\n",
    "                concat_list.append(SequencePoolingLayer(mode='sum')(feature))\n",
    "        else:\n",
    "            raise TypeError(\"wrong feature shape, got\", len(feature.shape))\n",
    "\n",
    "    # concat & flatten \n",
    "    deep_input = tf.concat(concat_list, axis=-1)\n",
    "    deep_input = layers.Flatten()(deep_input)\n",
    "    deep_input = tf.concat([deep_input]+other_list, axis=-1)\n",
    "    \n",
    "    # mlp \n",
    "    mlp_config = model_config['mlp_config']\n",
    "    output = MLP(\n",
    "        hidden_units = mlp_config['hidden_units'],\n",
    "        activation = mlp_config['activation'],\n",
    "        l2_reg = mlp_config['l2_reg'],\n",
    "        dropout_rate = mlp_config['dropout_rate'],\n",
    "        use_bn = mlp_config['use_bn']\n",
    "        )(deep_input)\n",
    "    \n",
    "    if model_config['target'] == 'binary':\n",
    "        output = layers.Dense(1, activation='sigmoid', use_bias=False)(output)\n",
    "    else:\n",
    "        pass \n",
    "                \n",
    "    return output\n",
    "    "
   ]
  },
  {
   "cell_type": "code",
   "execution_count": 24,
   "id": "8df9b0d7",
   "metadata": {},
   "outputs": [],
   "source": [
    "inputs = list(input_features.values()) \n",
    "output = build_output(model_config, all_features)\n",
    "model = keras.Model(inputs=inputs, outputs=output)"
   ]
  },
  {
   "cell_type": "code",
   "execution_count": 25,
   "id": "292b04a9",
   "metadata": {
    "scrolled": true
   },
   "outputs": [
    {
     "data": {
      "image/png": "[encoded data removed]",
      "text/plain": [
       "<IPython.core.display.Image object>"
      ]
     },
     "execution_count": 25,
     "metadata": {},
     "output_type": "execute_result"
    }
   ],
   "source": [
    "keras.utils.plot_model(model, \"pic/simple_din_model_v2.png\", show_shapes=True)"
   ]
  },
  {
   "cell_type": "code",
   "execution_count": 26,
   "id": "5a71c3e8",
   "metadata": {
    "scrolled": true
   },
   "outputs": [
    {
     "name": "stdout",
     "output_type": "stream",
     "text": [
      "WARNING:tensorflow:Using a while_loop for converting BoostedTreesBucketize\n"
     ]
    },
    {
     "name": "stderr",
     "output_type": "stream",
     "text": [
      "2023-06-01 16:40:57.955347: I tensorflow/compiler/mlir/mlir_graph_optimization_pass.cc:116] None of the MLIR optimization passes are enabled (registered 2)\n"
     ]
    },
    {
     "name": "stdout",
     "output_type": "stream",
     "text": [
      "WARNING:tensorflow:Using a while_loop for converting BoostedTreesBucketize\n",
      "1/1 [==============================] - ETA: 0s - loss: 0.6931 - accuracy: 0.0000e+00WARNING:tensorflow:Using a while_loop for converting BoostedTreesBucketize\n",
      "1/1 [==============================] - 2s 2s/step - loss: 0.6931 - accuracy: 0.0000e+00 - val_loss: 0.6880 - val_accuracy: 0.5000\n"
     ]
    },
    {
     "data": {
      "text/plain": [
       "<tensorflow.python.keras.callbacks.History at 0x7ff5d82e76d0>"
      ]
     },
     "execution_count": 26,
     "metadata": {},
     "output_type": "execute_result"
    }
   ],
   "source": [
    "# 简单使用model.fit来实验\n",
    "model.compile('adam', 'binary_crossentropy',\n",
    "              metrics=['accuracy'])\n",
    "model.fit(x, y, batch_size=100, epochs=1, validation_split=0.5)"
   ]
  },
  {
   "cell_type": "markdown",
   "id": "d153ac11",
   "metadata": {},
   "source": [
    "# [自定义training loop](https://www.tensorflow.org/tutorials/customization/custom_training_walkthrough#train_the_model)"
   ]
  },
  {
   "cell_type": "markdown",
   "id": "1c14eee1",
   "metadata": {},
   "source": [
    "## 定义[loss function](https://www.tensorflow.org/api_docs/python/tf/keras/losses)"
   ]
  },
  {
   "cell_type": "code",
   "execution_count": 27,
   "id": "f55c23bc",
   "metadata": {},
   "outputs": [],
   "source": [
    "loss_object = tf.keras.losses.BinaryCrossentropy(from_logits=False) # last layer已经有激活函数，所以这里from_logit设置为False\n",
    "\n",
    "def loss(model, x, y, training):\n",
    "    # training=training is needed only if there are layers with different\n",
    "    # behavior during training versus inference (e.g. Dropout).\n",
    "    y_ = model(x, training=training)\n",
    "\n",
    "    return loss_object(y_true=y, y_pred=y_)\n"
   ]
  },
  {
   "cell_type": "markdown",
   "id": "db950cc6",
   "metadata": {},
   "source": [
    "## 用[tf.GradientTape](https://www.tensorflow.org/api_docs/python/tf/GradientTape)计算梯度"
   ]
  },
  {
   "cell_type": "code",
   "execution_count": 28,
   "id": "c1245de4",
   "metadata": {},
   "outputs": [],
   "source": [
    "def grad(model, inputs, targets):\n",
    "    with tf.GradientTape() as tape:\n",
    "        loss_value = loss(model, inputs, targets, training=True)\n",
    "    return loss_value, tape.gradient(loss_value, model.trainable_variables)"
   ]
  },
  {
   "cell_type": "markdown",
   "id": "8efc7b50",
   "metadata": {},
   "source": [
    "## 定义[optimizer](https://www.tensorflow.org/api_docs/python/tf/keras/optimizers)\n",
    "\n",
    "其中learning rate可以通过[schedule](https://www.tensorflow.org/api_docs/python/tf/keras/optimizers/schedules/LearningRateSchedule)自定义衰减"
   ]
  },
  {
   "cell_type": "code",
   "execution_count": 29,
   "id": "548f276d",
   "metadata": {},
   "outputs": [],
   "source": [
    "optimizer = tf.keras.optimizers.SGD(learning_rate=0.01)"
   ]
  },
  {
   "cell_type": "code",
   "execution_count": 30,
   "id": "3891ebc7",
   "metadata": {},
   "outputs": [
    {
     "name": "stdout",
     "output_type": "stream",
     "text": [
      "WARNING:tensorflow:Using a while_loop for converting BoostedTreesBucketize\n",
      "Step: 0, Initial Loss: 0.5213849544525146\n",
      "WARNING:tensorflow:Using a while_loop for converting BoostedTreesBucketize\n",
      "Step: 1,         Loss: 0.6691491603851318\n"
     ]
    }
   ],
   "source": [
    "loss_value, grads = grad(model, x, y)\n",
    "\n",
    "print(\"Step: {}, Initial Loss: {}\".format(optimizer.iterations.numpy(),\n",
    "                                          loss_value.numpy()))\n",
    "\n",
    "optimizer.apply_gradients(zip(grads, model.trainable_variables))\n",
    "\n",
    "print(\"Step: {},         Loss: {}\".format(optimizer.iterations.numpy(),\n",
    "                                          loss(model, x, y, training=True).numpy()))"
   ]
  },
  {
   "cell_type": "markdown",
   "id": "5e6c8114",
   "metadata": {},
   "source": [
    "## training loop\n",
    "- Iterate each **epoch**. An epoch is one pass through the dataset.\n",
    "- Within an epoch, iterate over each example in the training Dataset **grabbing its features (x) and label (y)**.\n",
    "- Using the example's features, **make a prediction** and compare it with the label. Measure the inaccuracy of the prediction and use that to **calculate the model's loss and gradients**.\n",
    "- Use an **optimizer** to update the model's parameters.\n",
    "- **(tensorboard)**Keep track of some stats for visualization.\n",
    "- Repeat for each epoch.\n",
    "  \n",
    "(tape开始：predict -> loss tape结束) -> grad -> optimizer.apply_gradients"
   ]
  },
  {
   "cell_type": "code",
   "execution_count": 31,
   "id": "73d7aa5a",
   "metadata": {
    "collapsed": true
   },
   "outputs": [
    {
     "name": "stdout",
     "output_type": "stream",
     "text": [
      "WARNING:tensorflow:Using a while_loop for converting BoostedTreesBucketize\n",
      "WARNING:tensorflow:Using a while_loop for converting BoostedTreesBucketize\n",
      "Epoch 000: Loss: 0.567, Accuracy: 33.333%\n",
      "WARNING:tensorflow:Using a while_loop for converting BoostedTreesBucketize\n",
      "WARNING:tensorflow:5 out of the last 5 calls to <function pfor.<locals>.f at 0x7ff60e5f70d0> triggered tf.function retracing. Tracing is expensive and the excessive number of tracings could be due to (1) creating @tf.function repeatedly in a loop, (2) passing tensors with different shapes, (3) passing Python objects instead of tensors. For (1), please define your @tf.function outside of the loop. For (2), @tf.function has experimental_relax_shapes=True option that relaxes argument shapes that can avoid unnecessary retracing. For (3), please refer to https://www.tensorflow.org/guide/function#controlling_retracing and https://www.tensorflow.org/api_docs/python/tf/function for  more details.\n",
      "WARNING:tensorflow:Using a while_loop for converting BoostedTreesBucketize\n",
      "WARNING:tensorflow:6 out of the last 6 calls to <function pfor.<locals>.f at 0x7ff60e5f74c0> triggered tf.function retracing. Tracing is expensive and the excessive number of tracings could be due to (1) creating @tf.function repeatedly in a loop, (2) passing tensors with different shapes, (3) passing Python objects instead of tensors. For (1), please define your @tf.function outside of the loop. For (2), @tf.function has experimental_relax_shapes=True option that relaxes argument shapes that can avoid unnecessary retracing. For (3), please refer to https://www.tensorflow.org/guide/function#controlling_retracing and https://www.tensorflow.org/api_docs/python/tf/function for  more details.\n",
      "WARNING:tensorflow:Using a while_loop for converting BoostedTreesBucketize\n",
      "WARNING:tensorflow:7 out of the last 7 calls to <function pfor.<locals>.f at 0x7ff60e5f73a0> triggered tf.function retracing. Tracing is expensive and the excessive number of tracings could be due to (1) creating @tf.function repeatedly in a loop, (2) passing tensors with different shapes, (3) passing Python objects instead of tensors. For (1), please define your @tf.function outside of the loop. For (2), @tf.function has experimental_relax_shapes=True option that relaxes argument shapes that can avoid unnecessary retracing. For (3), please refer to https://www.tensorflow.org/guide/function#controlling_retracing and https://www.tensorflow.org/api_docs/python/tf/function for  more details.\n",
      "WARNING:tensorflow:Using a while_loop for converting BoostedTreesBucketize\n",
      "WARNING:tensorflow:8 out of the last 8 calls to <function pfor.<locals>.f at 0x7ff60e5f7280> triggered tf.function retracing. Tracing is expensive and the excessive number of tracings could be due to (1) creating @tf.function repeatedly in a loop, (2) passing tensors with different shapes, (3) passing Python objects instead of tensors. For (1), please define your @tf.function outside of the loop. For (2), @tf.function has experimental_relax_shapes=True option that relaxes argument shapes that can avoid unnecessary retracing. For (3), please refer to https://www.tensorflow.org/guide/function#controlling_retracing and https://www.tensorflow.org/api_docs/python/tf/function for  more details.\n",
      "WARNING:tensorflow:Using a while_loop for converting BoostedTreesBucketize\n",
      "WARNING:tensorflow:9 out of the last 9 calls to <function pfor.<locals>.f at 0x7ff60e5f7700> triggered tf.function retracing. Tracing is expensive and the excessive number of tracings could be due to (1) creating @tf.function repeatedly in a loop, (2) passing tensors with different shapes, (3) passing Python objects instead of tensors. For (1), please define your @tf.function outside of the loop. For (2), @tf.function has experimental_relax_shapes=True option that relaxes argument shapes that can avoid unnecessary retracing. For (3), please refer to https://www.tensorflow.org/guide/function#controlling_retracing and https://www.tensorflow.org/api_docs/python/tf/function for  more details.\n",
      "WARNING:tensorflow:Using a while_loop for converting BoostedTreesBucketize\n",
      "WARNING:tensorflow:10 out of the last 10 calls to <function pfor.<locals>.f at 0x7ff60e5f74c0> triggered tf.function retracing. Tracing is expensive and the excessive number of tracings could be due to (1) creating @tf.function repeatedly in a loop, (2) passing tensors with different shapes, (3) passing Python objects instead of tensors. For (1), please define your @tf.function outside of the loop. For (2), @tf.function has experimental_relax_shapes=True option that relaxes argument shapes that can avoid unnecessary retracing. For (3), please refer to https://www.tensorflow.org/guide/function#controlling_retracing and https://www.tensorflow.org/api_docs/python/tf/function for  more details.\n",
      "WARNING:tensorflow:Using a while_loop for converting BoostedTreesBucketize\n",
      "WARNING:tensorflow:11 out of the last 11 calls to <function pfor.<locals>.f at 0x7ff5f84df3a0> triggered tf.function retracing. Tracing is expensive and the excessive number of tracings could be due to (1) creating @tf.function repeatedly in a loop, (2) passing tensors with different shapes, (3) passing Python objects instead of tensors. For (1), please define your @tf.function outside of the loop. For (2), @tf.function has experimental_relax_shapes=True option that relaxes argument shapes that can avoid unnecessary retracing. For (3), please refer to https://www.tensorflow.org/guide/function#controlling_retracing and https://www.tensorflow.org/api_docs/python/tf/function for  more details.\n",
      "WARNING:tensorflow:Using a while_loop for converting BoostedTreesBucketize\n",
      "WARNING:tensorflow:11 out of the last 11 calls to <function pfor.<locals>.f at 0x7ff5f84df790> triggered tf.function retracing. Tracing is expensive and the excessive number of tracings could be due to (1) creating @tf.function repeatedly in a loop, (2) passing tensors with different shapes, (3) passing Python objects instead of tensors. For (1), please define your @tf.function outside of the loop. For (2), @tf.function has experimental_relax_shapes=True option that relaxes argument shapes that can avoid unnecessary retracing. For (3), please refer to https://www.tensorflow.org/guide/function#controlling_retracing and https://www.tensorflow.org/api_docs/python/tf/function for  more details.\n",
      "WARNING:tensorflow:Using a while_loop for converting BoostedTreesBucketize\n",
      "WARNING:tensorflow:11 out of the last 11 calls to <function pfor.<locals>.f at 0x7ff5f84df8b0> triggered tf.function retracing. Tracing is expensive and the excessive number of tracings could be due to (1) creating @tf.function repeatedly in a loop, (2) passing tensors with different shapes, (3) passing Python objects instead of tensors. For (1), please define your @tf.function outside of the loop. For (2), @tf.function has experimental_relax_shapes=True option that relaxes argument shapes that can avoid unnecessary retracing. For (3), please refer to https://www.tensorflow.org/guide/function#controlling_retracing and https://www.tensorflow.org/api_docs/python/tf/function for  more details.\n",
      "WARNING:tensorflow:Using a while_loop for converting BoostedTreesBucketize\n",
      "WARNING:tensorflow:11 out of the last 11 calls to <function pfor.<locals>.f at 0x7ff60e5f7d30> triggered tf.function retracing. Tracing is expensive and the excessive number of tracings could be due to (1) creating @tf.function repeatedly in a loop, (2) passing tensors with different shapes, (3) passing Python objects instead of tensors. For (1), please define your @tf.function outside of the loop. For (2), @tf.function has experimental_relax_shapes=True option that relaxes argument shapes that can avoid unnecessary retracing. For (3), please refer to https://www.tensorflow.org/guide/function#controlling_retracing and https://www.tensorflow.org/api_docs/python/tf/function for  more details.\n",
      "Epoch 005: Loss: 0.693, Accuracy: 33.333%\n",
      "WARNING:tensorflow:Using a while_loop for converting BoostedTreesBucketize\n",
      "WARNING:tensorflow:11 out of the last 11 calls to <function pfor.<locals>.f at 0x7ff60e5f7e50> triggered tf.function retracing. Tracing is expensive and the excessive number of tracings could be due to (1) creating @tf.function repeatedly in a loop, (2) passing tensors with different shapes, (3) passing Python objects instead of tensors. For (1), please define your @tf.function outside of the loop. For (2), @tf.function has experimental_relax_shapes=True option that relaxes argument shapes that can avoid unnecessary retracing. For (3), please refer to https://www.tensorflow.org/guide/function#controlling_retracing and https://www.tensorflow.org/api_docs/python/tf/function for  more details.\n"
     ]
    },
    {
     "name": "stdout",
     "output_type": "stream",
     "text": [
      "WARNING:tensorflow:Using a while_loop for converting BoostedTreesBucketize\n",
      "WARNING:tensorflow:11 out of the last 11 calls to <function pfor.<locals>.f at 0x7ff60e5f7ee0> triggered tf.function retracing. Tracing is expensive and the excessive number of tracings could be due to (1) creating @tf.function repeatedly in a loop, (2) passing tensors with different shapes, (3) passing Python objects instead of tensors. For (1), please define your @tf.function outside of the loop. For (2), @tf.function has experimental_relax_shapes=True option that relaxes argument shapes that can avoid unnecessary retracing. For (3), please refer to https://www.tensorflow.org/guide/function#controlling_retracing and https://www.tensorflow.org/api_docs/python/tf/function for  more details.\n",
      "WARNING:tensorflow:Using a while_loop for converting BoostedTreesBucketize\n",
      "WARNING:tensorflow:11 out of the last 11 calls to <function pfor.<locals>.f at 0x7ff60e5f7dc0> triggered tf.function retracing. Tracing is expensive and the excessive number of tracings could be due to (1) creating @tf.function repeatedly in a loop, (2) passing tensors with different shapes, (3) passing Python objects instead of tensors. For (1), please define your @tf.function outside of the loop. For (2), @tf.function has experimental_relax_shapes=True option that relaxes argument shapes that can avoid unnecessary retracing. For (3), please refer to https://www.tensorflow.org/guide/function#controlling_retracing and https://www.tensorflow.org/api_docs/python/tf/function for  more details.\n",
      "WARNING:tensorflow:Using a while_loop for converting BoostedTreesBucketize\n",
      "WARNING:tensorflow:11 out of the last 11 calls to <function pfor.<locals>.f at 0x7ff60e5f7dc0> triggered tf.function retracing. Tracing is expensive and the excessive number of tracings could be due to (1) creating @tf.function repeatedly in a loop, (2) passing tensors with different shapes, (3) passing Python objects instead of tensors. For (1), please define your @tf.function outside of the loop. For (2), @tf.function has experimental_relax_shapes=True option that relaxes argument shapes that can avoid unnecessary retracing. For (3), please refer to https://www.tensorflow.org/guide/function#controlling_retracing and https://www.tensorflow.org/api_docs/python/tf/function for  more details.\n",
      "WARNING:tensorflow:Using a while_loop for converting BoostedTreesBucketize\n",
      "WARNING:tensorflow:11 out of the last 11 calls to <function pfor.<locals>.f at 0x7ff5c81ab700> triggered tf.function retracing. Tracing is expensive and the excessive number of tracings could be due to (1) creating @tf.function repeatedly in a loop, (2) passing tensors with different shapes, (3) passing Python objects instead of tensors. For (1), please define your @tf.function outside of the loop. For (2), @tf.function has experimental_relax_shapes=True option that relaxes argument shapes that can avoid unnecessary retracing. For (3), please refer to https://www.tensorflow.org/guide/function#controlling_retracing and https://www.tensorflow.org/api_docs/python/tf/function for  more details.\n",
      "WARNING:tensorflow:Using a while_loop for converting BoostedTreesBucketize\n",
      "WARNING:tensorflow:11 out of the last 11 calls to <function pfor.<locals>.f at 0x7ff5f8478700> triggered tf.function retracing. Tracing is expensive and the excessive number of tracings could be due to (1) creating @tf.function repeatedly in a loop, (2) passing tensors with different shapes, (3) passing Python objects instead of tensors. For (1), please define your @tf.function outside of the loop. For (2), @tf.function has experimental_relax_shapes=True option that relaxes argument shapes that can avoid unnecessary retracing. For (3), please refer to https://www.tensorflow.org/guide/function#controlling_retracing and https://www.tensorflow.org/api_docs/python/tf/function for  more details.\n",
      "WARNING:tensorflow:Using a while_loop for converting BoostedTreesBucketize\n",
      "WARNING:tensorflow:11 out of the last 11 calls to <function pfor.<locals>.f at 0x7ff5f84df040> triggered tf.function retracing. Tracing is expensive and the excessive number of tracings could be due to (1) creating @tf.function repeatedly in a loop, (2) passing tensors with different shapes, (3) passing Python objects instead of tensors. For (1), please define your @tf.function outside of the loop. For (2), @tf.function has experimental_relax_shapes=True option that relaxes argument shapes that can avoid unnecessary retracing. For (3), please refer to https://www.tensorflow.org/guide/function#controlling_retracing and https://www.tensorflow.org/api_docs/python/tf/function for  more details.\n",
      "WARNING:tensorflow:Using a while_loop for converting BoostedTreesBucketize\n",
      "WARNING:tensorflow:11 out of the last 11 calls to <function pfor.<locals>.f at 0x7ff5f84dfca0> triggered tf.function retracing. Tracing is expensive and the excessive number of tracings could be due to (1) creating @tf.function repeatedly in a loop, (2) passing tensors with different shapes, (3) passing Python objects instead of tensors. For (1), please define your @tf.function outside of the loop. For (2), @tf.function has experimental_relax_shapes=True option that relaxes argument shapes that can avoid unnecessary retracing. For (3), please refer to https://www.tensorflow.org/guide/function#controlling_retracing and https://www.tensorflow.org/api_docs/python/tf/function for  more details.\n"
     ]
    }
   ],
   "source": [
    "# Keep results\n",
    "train_loss_results = []\n",
    "train_accuracy_results = []\n",
    "\n",
    "num_epochs = 10\n",
    "\n",
    "for epoch in range(num_epochs):\n",
    "    epoch_loss_avg = tf.keras.metrics.Mean()\n",
    "    epoch_accuracy = tf.keras.metrics.SparseCategoricalAccuracy()\n",
    "    \n",
    "    # 这里只有3个样本，不再batch\n",
    "\n",
    "    loss_value, grads = grad(model, x, y)\n",
    "    optimizer.apply_gradients(zip(grads, model.trainable_variables))\n",
    "\n",
    "    # Track progress\n",
    "    epoch_loss_avg.update_state(loss_value)  # Add current batch loss\n",
    "    # Compare predicted label to actual label\n",
    "    epoch_accuracy.update_state(y, model(x, training=True))\n",
    "\n",
    "    # End epoch\n",
    "    train_loss_results.append(epoch_loss_avg.result())\n",
    "    train_accuracy_results.append(epoch_accuracy.result())\n",
    "\n",
    "    if epoch % 5 == 0:\n",
    "        print(\"Epoch {:03d}: Loss: {:.3f}, Accuracy: {:.3%}\".format(epoch,\n",
    "                                                                epoch_loss_avg.result(),\n",
    "                                                                epoch_accuracy.result()))"
   ]
  },
  {
   "cell_type": "code",
   "execution_count": null,
   "id": "c6a2225c",
   "metadata": {},
   "outputs": [],
   "source": []
  }
 ],
 "metadata": {
  "kernelspec": {
   "display_name": "tf38",
   "language": "python",
   "name": "tf38"
  },
  "language_info": {
   "codemirror_mode": {
    "name": "ipython",
    "version": 3
   },
   "file_extension": ".py",
   "mimetype": "text/x-python",
   "name": "python",
   "nbconvert_exporter": "python",
   "pygments_lexer": "ipython3",
   "version": "3.8.5"
  },
  "toc": {
   "base_numbering": 1,
   "nav_menu": {},
   "number_sections": true,
   "sideBar": true,
   "skip_h1_title": false,
   "title_cell": "Table of Contents",
   "title_sidebar": "Contents",
   "toc_cell": false,
   "toc_position": {},
   "toc_section_display": true,
   "toc_window_display": false
  }
 },
 "nbformat": 4,
 "nbformat_minor": 5
}
