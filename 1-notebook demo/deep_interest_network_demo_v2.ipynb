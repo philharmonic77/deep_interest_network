{
 "cells": [
  {
   "cell_type": "markdown",
   "id": "ac2165db",
   "metadata": {},
   "source": [
    "**背景:**\n",
    "\n",
    "承接demo_v1，完善上一篇被简化的部分。逐步代码模块化。"
   ]
  },
  {
   "cell_type": "code",
   "execution_count": 1,
   "id": "88c15894",
   "metadata": {},
   "outputs": [
    {
     "name": "stdout",
     "output_type": "stream",
     "text": [
      "version of tensorflow: 2.4.1\n"
     ]
    }
   ],
   "source": [
    "import numpy as np\n",
    "import tensorflow as tf\n",
    "from tensorflow import keras\n",
    "from tensorflow.keras import layers\n",
    "\n",
    "print(\"version of tensorflow:\", tf.__version__)"
   ]
  },
  {
   "cell_type": "markdown",
   "id": "8cb63e56",
   "metadata": {},
   "source": [
    "# 预备"
   ]
  },
  {
   "cell_type": "markdown",
   "id": "20e4b249",
   "metadata": {},
   "source": [
    "## mask & padding \n",
    "\n",
    "可以参考[官方guide](https://www.tensorflow.org/guide/keras/understanding_masking_and_padding#passing_mask_tensors_directly_to_layers)."
   ]
  },
  {
   "cell_type": "markdown",
   "id": "09ef38c8",
   "metadata": {},
   "source": [
    "对不等长的序列需要padding，一般是末尾用0补齐。"
   ]
  },
  {
   "cell_type": "code",
   "execution_count": 2,
   "id": "4f7d0c2f",
   "metadata": {},
   "outputs": [
    {
     "name": "stdout",
     "output_type": "stream",
     "text": [
      "[[ 711  632   71    0    0    0]\n",
      " [  73    8 3215   55  927    0]\n",
      " [  83   91    1  645 1253  927]]\n"
     ]
    }
   ],
   "source": [
    "raw_inputs = [\n",
    "    [711, 632, 71],\n",
    "    [73, 8, 3215, 55, 927],\n",
    "    [83, 91, 1, 645, 1253, 927],\n",
    "]\n",
    "\n",
    "# tensorflow 2.12使用下面的代码\n",
    "# padded_inputs = tf.keras.utils.pad_sequences(\n",
    "#     raw_inputs, padding=\"post\"\n",
    "# )\n",
    "padded_inputs = tf.keras.preprocessing.sequence.pad_sequences(\n",
    "    raw_inputs, padding=\"post\"\n",
    ")\n",
    "print(padded_inputs)"
   ]
  },
  {
   "cell_type": "markdown",
   "id": "07251108",
   "metadata": {},
   "source": [
    "对序列做embedding，设置mask_zero=True，查看mask的效果。  "
   ]
  },
  {
   "cell_type": "code",
   "execution_count": 3,
   "id": "9be56469",
   "metadata": {},
   "outputs": [
    {
     "name": "stdout",
     "output_type": "stream",
     "text": [
      "tf.Tensor(\n",
      "[[ True  True  True False False False]\n",
      " [ True  True  True  True  True False]\n",
      " [ True  True  True  True  True  True]], shape=(3, 6), dtype=bool)\n"
     ]
    },
    {
     "name": "stderr",
     "output_type": "stream",
     "text": [
      "2023-05-28 23:51:11.721482: I tensorflow/compiler/jit/xla_cpu_device.cc:41] Not creating XLA devices, tf_xla_enable_xla_devices not set\n",
      "2023-05-28 23:51:11.721835: I tensorflow/core/platform/cpu_feature_guard.cc:142] This TensorFlow binary is optimized with oneAPI Deep Neural Network Library (oneDNN) to use the following CPU instructions in performance-critical operations:  SSE4.2\n",
      "To enable them in other operations, rebuild TensorFlow with the appropriate compiler flags.\n"
     ]
    }
   ],
   "source": [
    "embedding = layers.Embedding(input_dim=5000, output_dim=16, mask_zero=True)\n",
    "masked_output = embedding(padded_inputs)\n",
    "\n",
    "print(masked_output._keras_mask)"
   ]
  },
  {
   "cell_type": "markdown",
   "id": "4992d006",
   "metadata": {},
   "source": [
    "**备注：**  \n",
    "1. 在使用tf.keras的Sequence或者Functional API时，mask layer或者指明了mask的embedding layer的下游，只要支持mask都会自动使用这个信息。\n",
    "2. 可以认为embedding是mask的生产者，它实现了compute_mask方法供调用；rnn或者lstm等是mask的消费者，他们的__call__方法里支持mask参数，可以手动传进去。 \n",
    "\n",
    "  \n",
    "**回到DIN的实现上，sequence特征涉及embedding之后的pooling操作，以及attention部分，都需要处理mask的问题。**"
   ]
  },
  {
   "cell_type": "markdown",
   "id": "2eb29d9f",
   "metadata": {},
   "source": [
    "## 规范feature column参数"
   ]
  },
  {
   "cell_type": "markdown",
   "id": "5cf4e2bc",
   "metadata": {},
   "source": [
    "### dense feature \n",
    "这类特征可以直接作为模型的输入，或者先[分桶](https://www.tensorflow.org/api_docs/python/tf/keras/layers/Discretization)然后再embedding。"
   ]
  },
  {
   "cell_type": "code",
   "execution_count": 4,
   "id": "138f5765",
   "metadata": {},
   "outputs": [],
   "source": [
    "# 如果不做处理\n",
    "age = {\n",
    "    \"name\": \"age\",\n",
    "    \"dtype\": \"float32\",\n",
    "    \"dim\": (1,) # 1维\n",
    "}\n",
    "view_cnt = {\n",
    "    \"name\": \"view_cnt\",\n",
    "    \"dtype\": \"float32\",\n",
    "    \"dim\": (100,) # 100维   \n",
    "}\n",
    "\n",
    "# 如果需要分桶再embedding\n",
    "age = {\n",
    "    \"name\": \"age\",\n",
    "    \"dtype\": \"float32\",\n",
    "    \"dim\": (1,), # 1维\n",
    "    \n",
    "    \"use_bucket\": True,\n",
    "    \"bin\": [20, 30, 40, 50, 60], # 若use_bucket=False以下可以不填\n",
    "    \"emb_name\": \"age_emb\",\n",
    "    \"emb_dim\": 8\n",
    "}"
   ]
  },
  {
   "cell_type": "markdown",
   "id": "4e01a908",
   "metadata": {},
   "source": [
    "### sparse feature\n",
    "这类特征可以直接embedding，但是如果取值过多也可以先hash到有限个取值上。参考[这里](https://www.tensorflow.org/guide/keras/preprocessing_layers#applying_the_hashing_trick_to_an_integer_categorical_feature)。"
   ]
  },
  {
   "cell_type": "code",
   "execution_count": 5,
   "id": "644bee0d",
   "metadata": {},
   "outputs": [],
   "source": [
    "iid = {\n",
    "    \"name\": \"iid\",\n",
    "    \"dtype\": \"bytes\",\n",
    "    \"dim\": (1,), \n",
    "    \n",
    "    \"vocab_size\": 100000,\n",
    "    \"use_hash\": True, # 若use_hash=False，hash_size可以不填\n",
    "    \"hash_size\": 10000,\n",
    "    \"emb_name\": \"iid_emb\",\n",
    "    \"emb_dim\": 1000    \n",
    "}"
   ]
  },
  {
   "cell_type": "markdown",
   "id": "e0397c01",
   "metadata": {},
   "source": [
    "### seq/multi sparse feature\n",
    "这类特征dim>1，可能是sequence，也可以不是，eg：tag list。和sparse feature相比，需要多定义max_len, combiner(pooling参数), is_sequence。"
   ]
  },
  {
   "cell_type": "code",
   "execution_count": 6,
   "id": "156a30f7",
   "metadata": {},
   "outputs": [],
   "source": [
    "view_iid = {\n",
    "    \"name\": \"iid\",\n",
    "    \"dtype\": \"bytes\",\n",
    "    \"dim\": (1,), \n",
    "    \n",
    "    \"vocab_size\": 100000,\n",
    "    \"use_hash\": True,\n",
    "    \"hash_size\": 10000, # 若use_hash=False，hash_size可以不填\n",
    "    \"emb_name\": \"iid_emb\",\n",
    "    \"emb_dim\": 1000,\n",
    "    \n",
    "    \"max_len\": 100,\n",
    "    \"use_padding\": True, # 如果输入不定长，则需要设置为True\n",
    "    \"combiner\": \"mean\",\n",
    "    \"is_sequence\": True     \n",
    "}"
   ]
  },
  {
   "cell_type": "markdown",
   "id": "3519bbc6",
   "metadata": {},
   "source": [
    "## 定义模型结构参数"
   ]
  },
  {
   "cell_type": "code",
   "execution_count": 7,
   "id": "b38781e5",
   "metadata": {},
   "outputs": [],
   "source": [
    "model_params = {\n",
    "    \"user_feat\": [],\n",
    "    \"item_feat\": [],\n",
    "    \"mlp_hidden_size\": [128, 64, 64],\n",
    "    \"use_bn\": True,\n",
    "    \"din\": [\"view_iid|iid\", \"view_cid|cid\"], # 这里必须是seq特征｜item特征 \n",
    "    \"din_hidden_size\": [64, 32]\n",
    "}"
   ]
  },
  {
   "cell_type": "markdown",
   "id": "2388e25e",
   "metadata": {},
   "source": [
    "# 代码模块化"
   ]
  },
  {
   "cell_type": "markdown",
   "id": "693a1448",
   "metadata": {},
   "source": [
    "## 定义feature column"
   ]
  },
  {
   "cell_type": "markdown",
   "id": "25659c82",
   "metadata": {},
   "source": [
    "## 自定义mlp结构"
   ]
  },
  {
   "cell_type": "markdown",
   "id": "72d0ccb3",
   "metadata": {},
   "source": [
    "## 自定义din结构"
   ]
  },
  {
   "cell_type": "markdown",
   "id": "dba36592",
   "metadata": {},
   "source": [
    "## sum up"
   ]
  },
  {
   "cell_type": "code",
   "execution_count": null,
   "id": "8f55080b",
   "metadata": {},
   "outputs": [],
   "source": []
  }
 ],
 "metadata": {
  "kernelspec": {
   "display_name": "tf38",
   "language": "python",
   "name": "tf38"
  },
  "language_info": {
   "codemirror_mode": {
    "name": "ipython",
    "version": 3
   },
   "file_extension": ".py",
   "mimetype": "text/x-python",
   "name": "python",
   "nbconvert_exporter": "python",
   "pygments_lexer": "ipython3",
   "version": "3.8.5"
  },
  "toc": {
   "base_numbering": 1,
   "nav_menu": {},
   "number_sections": true,
   "sideBar": true,
   "skip_h1_title": false,
   "title_cell": "Table of Contents",
   "title_sidebar": "Contents",
   "toc_cell": false,
   "toc_position": {},
   "toc_section_display": true,
   "toc_window_display": false
  }
 },
 "nbformat": 4,
 "nbformat_minor": 5
}
