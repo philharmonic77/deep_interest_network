{
 "cells": [
  {
   "cell_type": "markdown",
   "id": "ef2791d5",
   "metadata": {},
   "source": [
    "**背景:**\n",
    "\n",
    "承接demo_v1，完善上一篇被简化的部分。逐步代码模块化。"
   ]
  },
  {
   "cell_type": "code",
   "execution_count": 24,
   "id": "023dede2",
   "metadata": {},
   "outputs": [
    {
     "name": "stdout",
     "output_type": "stream",
     "text": [
      "version of tensorflow: 2.4.1\n"
     ]
    }
   ],
   "source": [
    "import numpy as np\n",
    "import tensorflow as tf\n",
    "from tensorflow import keras\n",
    "from tensorflow.keras import layers\n",
    "\n",
    "print(\"version of tensorflow:\", tf.__version__)"
   ]
  },
  {
   "cell_type": "markdown",
   "id": "1cb3f99c",
   "metadata": {},
   "source": [
    "# 预备"
   ]
  },
  {
   "cell_type": "markdown",
   "id": "243e97ca",
   "metadata": {},
   "source": [
    "## mask & padding \n",
    "\n",
    "可以参考[官方guide](https://www.tensorflow.org/guide/keras/understanding_masking_and_padding#passing_mask_tensors_directly_to_layers)."
   ]
  },
  {
   "cell_type": "markdown",
   "id": "466e54a4",
   "metadata": {},
   "source": [
    "对不等长的序列需要padding，一般是末尾用0补齐。"
   ]
  },
  {
   "cell_type": "code",
   "execution_count": 25,
   "id": "a291de31",
   "metadata": {},
   "outputs": [
    {
     "name": "stdout",
     "output_type": "stream",
     "text": [
      "[[ 711  632   71    0    0    0]\n",
      " [  73    8 3215   55  927    0]\n",
      " [  83   91    1  645 1253  927]]\n"
     ]
    }
   ],
   "source": [
    "raw_inputs = [\n",
    "    [711, 632, 71],\n",
    "    [73, 8, 3215, 55, 927],\n",
    "    [83, 91, 1, 645, 1253, 927],\n",
    "]\n",
    "\n",
    "# tensorflow 2.12使用下面的代码\n",
    "# padded_inputs = tf.keras.utils.pad_sequences(\n",
    "#     raw_inputs, padding=\"post\"\n",
    "# )\n",
    "padded_inputs = tf.keras.preprocessing.sequence.pad_sequences(\n",
    "    raw_inputs, padding=\"post\"\n",
    ")\n",
    "print(padded_inputs)"
   ]
  },
  {
   "cell_type": "markdown",
   "id": "88e0b55c",
   "metadata": {},
   "source": [
    "对序列做embedding，设置mask_zero=True，查看mask的效果。  "
   ]
  },
  {
   "cell_type": "code",
   "execution_count": 26,
   "id": "9c15973b",
   "metadata": {},
   "outputs": [
    {
     "name": "stdout",
     "output_type": "stream",
     "text": [
      "tf.Tensor(\n",
      "[[ True  True  True False False False]\n",
      " [ True  True  True  True  True False]\n",
      " [ True  True  True  True  True  True]], shape=(3, 6), dtype=bool)\n"
     ]
    }
   ],
   "source": [
    "embedding = layers.Embedding(input_dim=5000, output_dim=16, mask_zero=True)\n",
    "masked_output = embedding(padded_inputs)\n",
    "\n",
    "print(masked_output._keras_mask)"
   ]
  },
  {
   "cell_type": "markdown",
   "id": "39737088",
   "metadata": {},
   "source": [
    "**备注：**  \n",
    "1. 在使用tf.keras的Sequence或者Functional API时，mask layer或者指明了mask的embedding layer的下游，只要支持mask都会自动使用这个信息。\n",
    "2. 可以认为embedding是mask的生产者，它实现了compute_mask方法供调用；rnn或者lstm等是mask的消费者，他们的__call__方法里支持mask参数，可以手动传进去。 \n",
    "\n",
    "  \n",
    "**回到DIN的实现上，sequence特征涉及embedding之后的pooling操作，以及attention部分，都需要处理mask的问题。**"
   ]
  },
  {
   "cell_type": "markdown",
   "id": "81116d9b",
   "metadata": {},
   "source": [
    "## 定义feature column参数"
   ]
  },
  {
   "cell_type": "markdown",
   "id": "545caf44",
   "metadata": {},
   "source": [
    "### dense feature "
   ]
  },
  {
   "cell_type": "code",
   "execution_count": null,
   "id": "2dd7236c",
   "metadata": {},
   "outputs": [],
   "source": []
  },
  {
   "cell_type": "markdown",
   "id": "41954611",
   "metadata": {},
   "source": [
    "### sparse feature"
   ]
  },
  {
   "cell_type": "code",
   "execution_count": null,
   "id": "907aa105",
   "metadata": {},
   "outputs": [],
   "source": []
  },
  {
   "cell_type": "markdown",
   "id": "25321824",
   "metadata": {},
   "source": [
    "### "
   ]
  },
  {
   "cell_type": "markdown",
   "id": "a978e43d",
   "metadata": {},
   "source": [
    "## 定义模型结构参数"
   ]
  },
  {
   "cell_type": "code",
   "execution_count": null,
   "id": "e112aa8d",
   "metadata": {},
   "outputs": [],
   "source": []
  }
 ],
 "metadata": {
  "kernelspec": {
   "display_name": "tf38",
   "language": "python",
   "name": "tf38"
  },
  "language_info": {
   "codemirror_mode": {
    "name": "ipython",
    "version": 3
   },
   "file_extension": ".py",
   "mimetype": "text/x-python",
   "name": "python",
   "nbconvert_exporter": "python",
   "pygments_lexer": "ipython3",
   "version": "3.8.5"
  },
  "toc": {
   "base_numbering": 1,
   "nav_menu": {},
   "number_sections": true,
   "sideBar": true,
   "skip_h1_title": false,
   "title_cell": "Table of Contents",
   "title_sidebar": "Contents",
   "toc_cell": false,
   "toc_position": {},
   "toc_section_display": true,
   "toc_window_display": false
  }
 },
 "nbformat": 4,
 "nbformat_minor": 5
}
