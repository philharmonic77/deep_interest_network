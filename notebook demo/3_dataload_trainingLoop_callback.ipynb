{
 "cells": [
  {
   "cell_type": "markdown",
   "id": "ca6e8a8f",
   "metadata": {},
   "source": [
    "**背景：**  \n",
    "  \n",
    "介绍除了之前第1、2部分模型结构之外的其他内容，包括：\n",
    "1. 实战中的data load\n",
    "2. callback和tensorboard\n",
    "3. 自定义training loop\n",
    "4. distributed training"
   ]
  },
  {
   "cell_type": "code",
   "execution_count": null,
   "id": "bb2defff",
   "metadata": {},
   "outputs": [],
   "source": []
  }
 ],
 "metadata": {
  "kernelspec": {
   "display_name": "tf38",
   "language": "python",
   "name": "tf38"
  },
  "language_info": {
   "codemirror_mode": {
    "name": "ipython",
    "version": 3
   },
   "file_extension": ".py",
   "mimetype": "text/x-python",
   "name": "python",
   "nbconvert_exporter": "python",
   "pygments_lexer": "ipython3",
   "version": "3.8.5"
  },
  "toc": {
   "base_numbering": 1,
   "nav_menu": {},
   "number_sections": true,
   "sideBar": true,
   "skip_h1_title": false,
   "title_cell": "Table of Contents",
   "title_sidebar": "Contents",
   "toc_cell": false,
   "toc_position": {},
   "toc_section_display": true,
   "toc_window_display": false
  }
 },
 "nbformat": 4,
 "nbformat_minor": 5
}
